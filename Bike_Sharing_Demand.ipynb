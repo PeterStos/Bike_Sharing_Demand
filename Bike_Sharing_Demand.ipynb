{
 "cells": [
  {
   "cell_type": "markdown",
   "id": "ea7c3977",
   "metadata": {},
   "source": [
    "## Bike Sharing Demand"
   ]
  },
  {
   "cell_type": "markdown",
   "id": "1175654c",
   "metadata": {},
   "source": [
    "### Import Libraries"
   ]
  },
  {
   "cell_type": "code",
   "execution_count": 4,
   "id": "ddf3c33b",
   "metadata": {},
   "outputs": [],
   "source": [
    "import pandas as pd      # for data manipulation and analysis\n",
    "import numpy as np       # for numerical computing\n",
    "import matplotlib.pyplot as plt     # for data visualization\n",
    "import seaborn as sns    # for advanced data visualization\n",
    "import sklearn           # for machine learning algorithms\n",
    "import statsmodels.api as sm        # for statistical models and tests\n",
    "import scipy.stats as stats         # for scientific computing and statistics"
   ]
  },
  {
   "cell_type": "markdown",
   "id": "0e692dfb",
   "metadata": {},
   "source": [
    "### Import Data"
   ]
  },
  {
   "cell_type": "markdown",
   "id": "8ef6605a",
   "metadata": {},
   "source": [
    "#### Data Fields\n",
    "\n",
    "**datetime** - hourly date + timestamp <br>\n",
    "**season** -  1 = spring, 2 = summer, 3 = fall, 4 = winter <br>\n",
    "**holiday** - whether the day is considered a holiday <br>\n",
    "**workingday** - whether the day is neither a weekend nor holiday <br>\n",
    "**weather:** <br>\n",
    "  1: Clear, Few clouds, Partly cloudy, Partly cloudy <br>\n",
    "  2: Mist + Cloudy, Mist + Broken clouds, Mist + Few clouds, Mist <br>\n",
    "  3: Light Snow, Light Rain + Thunderstorm + Scattered clouds, Light Rain + Scattered clouds <br>\n",
    "  4: Heavy Rain + Ice Pallets + Thunderstorm + Mist, Snow + Fog  <br>\n",
    "**temp** - temperature in Celsius <br>\n",
    "**atemp** - \"feels like\" temperature in Celsius <br>\n",
    "**humidity** - relative humidity <br>\n",
    "**windspeed** - wind speed <br>\n",
    "**casual** - number of non-registered user rentals initiated <br>\n",
    "**registered** - number of registered user rentals initiated <br>\n",
    "**count**   - number of total rentals <br>"
   ]
  },
  {
   "cell_type": "code",
   "execution_count": 6,
   "id": "a2ef2b6e",
   "metadata": {},
   "outputs": [],
   "source": [
    "# Set the file path and name\n",
    "train_path = './data/train.csv'\n",
    "test_path = './data/test.csv'\n",
    "\n",
    "# Read the CSV file into a Pandas DataFrame\n",
    "train_df = pd.read_csv(train_path)\n",
    "test_df = pd.read_csv(test_path)\n",
    "\n",
    "# Copy of datasets\n",
    "train = train_df\n",
    "Test = test_df"
   ]
  },
  {
   "cell_type": "markdown",
   "id": "801155ef",
   "metadata": {},
   "source": [
    "### Auxiliar Functions"
   ]
  },
  {
   "cell_type": "code",
   "execution_count": 7,
   "id": "2bd3c452",
   "metadata": {},
   "outputs": [],
   "source": [
    "# Function to print main info about the dataset\n",
    "\n",
    "def ds_info(df):\n",
    "    print(colored('SIZE' , 'blue', attrs=['bold', 'dark']))\n",
    "    print(df.size)\n",
    "    print(colored('\\nSHAPE' , 'blue', attrs=['bold', 'dark']))\n",
    "    print(df.shape)\n",
    "    print(colored('\\nINFO' , 'blue', attrs=['bold', 'dark']))\n",
    "    print(df.info())\n",
    "    print(colored('\\nNULL VALUES' , 'blue', attrs=['bold', 'dark']))\n",
    "    print(df.isnull().sum())\n",
    "    print(colored('\\nHEAD' , 'blue', attrs=['bold', 'dark']))\n",
    "    print(df.head())\n",
    "    print(colored('\\nTAIL' , 'blue', attrs=['bold', 'dark']))\n",
    "    print(df.tail())\n",
    "    print(colored('\\nDESCRIBE - Numerical' , 'blue', attrs=['bold', 'dark']))\n",
    "    print(df.describe())\n",
    "    print(colored('\\nDESCRIBE - Categorical' , 'blue', attrs=['bold', 'dark']))\n",
    "    print(df.describe(include='object'))\n",
    "    \n",
    "    print(colored('\\nUNIQUE ENTRIES IN EACH NUMERICAL COLUMN' , 'blue', attrs=['bold', 'dark']))\n",
    "    # Get number of unique entries in each column with numerical data\n",
    "    num_cols = [col for col in df.columns if df[col].dtype != \"object\"]\n",
    "    num_nunique = list(map(lambda col: df[col].nunique(), num_cols))    \n",
    "    dn = dict(zip(num_cols, num_nunique))\n",
    "    # Print number of unique entries by column, in ascending order\n",
    "    print(sorted(dn.items(), key=lambda x: x[1]))\n",
    "    \n",
    "    print(colored('\\nUNIQUE ENTRIES IN EACH CATEGORICAL COLUMN' , 'blue', attrs=['bold', 'dark']))\n",
    "    # Get number of unique entries in each column with categorical data\n",
    "    object_cols = [col for col in df.columns if df[col].dtype == \"object\"]\n",
    "    object_nunique = list(map(lambda col: df[col].nunique(), object_cols))\n",
    "    dc = dict(zip(object_cols, object_nunique))\n",
    "    # Print number of unique entries by column, in ascending order\n",
    "    print(sorted(dc.items(), key=lambda x: x[1]))"
   ]
  },
  {
   "cell_type": "markdown",
   "id": "0de3ebf9",
   "metadata": {},
   "source": [
    "### Exploratory Data Analysis"
   ]
  },
  {
   "cell_type": "code",
   "execution_count": null,
   "id": "77eb7955",
   "metadata": {},
   "outputs": [],
   "source": []
  },
  {
   "cell_type": "code",
   "execution_count": null,
   "id": "069b779d",
   "metadata": {},
   "outputs": [],
   "source": []
  },
  {
   "cell_type": "code",
   "execution_count": null,
   "id": "39c216e0",
   "metadata": {},
   "outputs": [],
   "source": []
  },
  {
   "cell_type": "code",
   "execution_count": null,
   "id": "9e864517",
   "metadata": {},
   "outputs": [],
   "source": []
  },
  {
   "cell_type": "code",
   "execution_count": null,
   "id": "4c80a9c6",
   "metadata": {},
   "outputs": [],
   "source": []
  },
  {
   "cell_type": "code",
   "execution_count": null,
   "id": "c0fc3373",
   "metadata": {},
   "outputs": [],
   "source": []
  },
  {
   "cell_type": "code",
   "execution_count": null,
   "id": "09da7e54",
   "metadata": {},
   "outputs": [],
   "source": []
  },
  {
   "cell_type": "code",
   "execution_count": null,
   "id": "054e9ba9",
   "metadata": {},
   "outputs": [],
   "source": []
  },
  {
   "cell_type": "code",
   "execution_count": null,
   "id": "5207c038",
   "metadata": {},
   "outputs": [],
   "source": []
  }
 ],
 "metadata": {
  "kernelspec": {
   "display_name": "Python 3 (ipykernel)",
   "language": "python",
   "name": "python3"
  },
  "language_info": {
   "codemirror_mode": {
    "name": "ipython",
    "version": 3
   },
   "file_extension": ".py",
   "mimetype": "text/x-python",
   "name": "python",
   "nbconvert_exporter": "python",
   "pygments_lexer": "ipython3",
   "version": "3.7.13"
  }
 },
 "nbformat": 4,
 "nbformat_minor": 5
}

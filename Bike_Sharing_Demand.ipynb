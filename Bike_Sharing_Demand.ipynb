{
 "cells": [
  {
   "cell_type": "markdown",
   "id": "ea7c3977",
   "metadata": {},
   "source": [
    "## Bike Sharing Demand"
   ]
  },
  {
   "cell_type": "markdown",
   "id": "1175654c",
   "metadata": {},
   "source": [
    "### Import Libraries"
   ]
  },
  {
   "cell_type": "code",
   "execution_count": 63,
   "id": "ddf3c33b",
   "metadata": {},
   "outputs": [],
   "source": [
    "import pandas as pd      # for data manipulation and analysis\n",
    "import numpy as np       # for numerical computing\n",
    "import matplotlib.pyplot as plt     # for data visualization\n",
    "import matplotlib.dates as mdates   \n",
    "import seaborn as sns    # for advanced data visualization\n",
    "import sklearn           # for machine learning algorithms\n",
    "import statsmodels.api as sm        # for statistical models and tests\n",
    "import scipy.stats as stats         # for scientific computing and statistics\n",
    "import random\n",
    "\n",
    "\n",
    "# To plot nice figures\n",
    "%matplotlib inline\n",
    "import matplotlib as mpl\n",
    "import matplotlib.pyplot as plt\n",
    "mpl.rc('axes', labelsize=14)\n",
    "mpl.rc('xtick', labelsize=12)\n",
    "mpl.rc('ytick', labelsize=12)\n",
    "\n",
    "from termcolor import colored\n",
    "import pylab\n",
    "from sklearn.impute import SimpleImputer\n",
    "from sklearn.model_selection import train_test_split\n",
    "from sklearn.ensemble import RandomForestRegressor\n",
    "from sklearn.metrics import mean_absolute_error"
   ]
  },
  {
   "cell_type": "markdown",
   "id": "0e692dfb",
   "metadata": {},
   "source": [
    "### Import Data"
   ]
  },
  {
   "cell_type": "code",
   "execution_count": 64,
   "id": "a2ef2b6e",
   "metadata": {},
   "outputs": [],
   "source": [
    "# Set the file path and name\n",
    "train_path = './data/train.csv'\n",
    "test_path = './data/test.csv'\n",
    "\n",
    "# Read the CSV file into a Pandas DataFrame\n",
    "train_df = pd.read_csv(train_path)\n",
    "test_df = pd.read_csv(test_path)\n",
    "\n",
    "# Copy of datasets\n",
    "train = train_df\n",
    "test = test_df"
   ]
  },
  {
   "cell_type": "markdown",
   "id": "801155ef",
   "metadata": {},
   "source": [
    "### Auxiliar Functions"
   ]
  },
  {
   "cell_type": "code",
   "execution_count": 65,
   "id": "2bd3c452",
   "metadata": {},
   "outputs": [],
   "source": [
    "# Function to print main info about the dataset\n",
    "\n",
    "def ds_info(df):\n",
    "    print(colored('SIZE' , 'blue', attrs=['bold', 'dark']))\n",
    "    print(df.size)\n",
    "    print(colored('\\nSHAPE' , 'blue', attrs=['bold', 'dark']))\n",
    "    print(df.shape)\n",
    "    print(colored('\\nINFO' , 'blue', attrs=['bold', 'dark']))\n",
    "    print(df.info())\n",
    "    print(colored('\\nNULL VALUES' , 'blue', attrs=['bold', 'dark']))\n",
    "    print(df.isnull().sum())\n",
    "    print(colored('\\nHEAD' , 'blue', attrs=['bold', 'dark']))\n",
    "    print(df.head())\n",
    "    print(colored('\\nTAIL' , 'blue', attrs=['bold', 'dark']))\n",
    "    print(df.tail())\n",
    "    print(colored('\\nDESCRIBE - Numerical' , 'blue', attrs=['bold', 'dark']))\n",
    "    print(df.describe())\n",
    "    print(colored('\\nDESCRIBE - Categorical' , 'blue', attrs=['bold', 'dark']))\n",
    "    print(df.describe(include='object'))\n",
    "    \n",
    "    print(colored('\\nUNIQUE ENTRIES IN EACH NUMERICAL COLUMN' , 'blue', attrs=['bold', 'dark']))\n",
    "    # Get number of unique entries in each column with numerical data\n",
    "    num_cols = [col for col in df.columns if df[col].dtype != \"object\"]\n",
    "    num_nunique = list(map(lambda col: df[col].nunique(), num_cols))    \n",
    "    dn = dict(zip(num_cols, num_nunique))\n",
    "    # Print number of unique entries by column, in ascending order\n",
    "    print(sorted(dn.items(), key=lambda x: x[1]))\n",
    "    \n",
    "    print(colored('\\nUNIQUE ENTRIES IN EACH CATEGORICAL COLUMN' , 'blue', attrs=['bold', 'dark']))\n",
    "    # Get number of unique entries in each column with categorical data\n",
    "    object_cols = [col for col in df.columns if df[col].dtype == \"object\"]\n",
    "    object_nunique = list(map(lambda col: df[col].nunique(), object_cols))\n",
    "    dc = dict(zip(object_cols, object_nunique))\n",
    "    # Print number of unique entries by column, in ascending order\n",
    "    print(sorted(dc.items(), key=lambda x: x[1]))\n",
    "\n",
    "# Function to detect and print outliers \n",
    "def detect_outliers(data):\n",
    "    # mean, standard deviation and 3-sigma of the data\n",
    "    mean = np.mean(data)\n",
    "    std = np.std(data)\n",
    "    threesigma = 3 * std\n",
    "    \n",
    "    # print upper, lower boundary and boxplot\n",
    "    sns.boxplot(data, orient=\"v\")\n",
    "    plt.show()\n",
    "    lower, upper = mean-3*std, mean+3*std\n",
    "    print(f\"Upper and lower boundary is: {lower}/{upper}\")\n",
    "    \n",
    "    # identify outliers and return the outliers\n",
    "    outliers = [x for x in data if np.abs(x - mean) > threesigma]\n",
    "    print(f\"There are {len(outliers)} outliers based on three-sigma rule\")\n",
    "\n",
    "# Function to delete the outliers \n",
    "def delete_outliers(data, df):\n",
    "    # detecting and dropping outliers \n",
    "    original_shape = df.shape\n",
    "    mean = np.mean(data)\n",
    "    std = np.std(data)\n",
    "    outliers = np.abs(data-mean) > (3*std)\n",
    "    outliers_num = len(train[outliers])\n",
    "    df.drop(index=data[outliers].index, inplace=True)\n",
    "    \n",
    "    # print what was deleted\n",
    "    print(\"Number of outliers deleted:\", outliers_num)\n",
    "    print (\"Shape of dataframe with Ouliers: \",original_shape)\n",
    "    print (\"Shape of Dataframe After Deleting the Ouliers: \",df.shape)\n",
    "\n",
    "# Function to plot the Correlation Heatmap\n",
    "def correlation_heatmap(corr):\n",
    "    mask = np.array(corr)\n",
    "    mask[np.tril_indices_from(mask)] = False\n",
    "    # plot the correlation\n",
    "    fig,ax= plt.subplots()\n",
    "    fig.set_size_inches(10,10)\n",
    "    sns.heatmap(corrMatt, mask=mask,vmax=.8, square=True,annot=True)"
   ]
  },
  {
   "cell_type": "markdown",
   "id": "0de3ebf9",
   "metadata": {},
   "source": [
    "### Data Information\n",
    "\n",
    "#### Features\n",
    "\n",
    "**datetime** - hourly date + timestamp <br>\n",
    "**season** -  season of the year (1 = spring, 2 = summer, 3 = fall, 4 = winter) <br>\n",
    "**holiday** - whether the day is considered a holiday (1: holiday, 0: not a holiday) <br>\n",
    "**workingday** - whether the day is neither a weekend nor holiday (1: working day, 0: not a working day) <br>\n",
    "**weather:** <br>\n",
    "  1: Clear, Few clouds, Partly cloudy, Partly cloudy <br>\n",
    "  2: Mist + Cloudy, Mist + Broken clouds, Mist + Few clouds, Mist <br>\n",
    "  3: Light Snow, Light Rain + Thunderstorm + Scattered clouds, Light Rain + Scattered clouds <br>\n",
    "  4: Heavy Rain + Ice Pallets + Thunderstorm + Mist, Snow + Fog  <br>\n",
    "**temp** - temperature in Celsius <br>\n",
    "**atemp** - \"feels like\" temperature in Celsius <br>\n",
    "**humidity** - relative humidity <br>\n",
    "**windspeed** - wind speed <br>\n",
    "**casual** - number of non-registered user rentals initiated <br>\n",
    "**registered** - number of registered user rentals initiated <br>\n",
    "**count**   - number of total rentals <br>"
   ]
  },
  {
   "cell_type": "markdown",
   "id": "05f1cd3c",
   "metadata": {},
   "source": [
    "#### Train Dataset Information"
   ]
  },
  {
   "cell_type": "code",
   "execution_count": 66,
   "id": "77eb7955",
   "metadata": {},
   "outputs": [
    {
     "name": "stdout",
     "output_type": "stream",
     "text": [
      "\u001b[2m\u001b[1m\u001b[34mSIZE\u001b[0m\n",
      "130632\n",
      "\u001b[2m\u001b[1m\u001b[34m\n",
      "SHAPE\u001b[0m\n",
      "(10886, 12)\n",
      "\u001b[2m\u001b[1m\u001b[34m\n",
      "INFO\u001b[0m\n",
      "<class 'pandas.core.frame.DataFrame'>\n",
      "RangeIndex: 10886 entries, 0 to 10885\n",
      "Data columns (total 12 columns):\n",
      " #   Column      Non-Null Count  Dtype  \n",
      "---  ------      --------------  -----  \n",
      " 0   datetime    10886 non-null  object \n",
      " 1   season      10886 non-null  int64  \n",
      " 2   holiday     10886 non-null  int64  \n",
      " 3   workingday  10886 non-null  int64  \n",
      " 4   weather     10886 non-null  int64  \n",
      " 5   temp        10886 non-null  float64\n",
      " 6   atemp       10886 non-null  float64\n",
      " 7   humidity    10886 non-null  int64  \n",
      " 8   windspeed   10886 non-null  float64\n",
      " 9   casual      10886 non-null  int64  \n",
      " 10  registered  10886 non-null  int64  \n",
      " 11  count       10886 non-null  int64  \n",
      "dtypes: float64(3), int64(8), object(1)\n",
      "memory usage: 1020.7+ KB\n",
      "None\n",
      "\u001b[2m\u001b[1m\u001b[34m\n",
      "NULL VALUES\u001b[0m\n",
      "datetime      0\n",
      "season        0\n",
      "holiday       0\n",
      "workingday    0\n",
      "weather       0\n",
      "temp          0\n",
      "atemp         0\n",
      "humidity      0\n",
      "windspeed     0\n",
      "casual        0\n",
      "registered    0\n",
      "count         0\n",
      "dtype: int64\n",
      "\u001b[2m\u001b[1m\u001b[34m\n",
      "HEAD\u001b[0m\n",
      "              datetime  season  holiday  workingday  weather  temp   atemp  \\\n",
      "0  2011-01-01 00:00:00       1        0           0        1  9.84  14.395   \n",
      "1  2011-01-01 01:00:00       1        0           0        1  9.02  13.635   \n",
      "2  2011-01-01 02:00:00       1        0           0        1  9.02  13.635   \n",
      "3  2011-01-01 03:00:00       1        0           0        1  9.84  14.395   \n",
      "4  2011-01-01 04:00:00       1        0           0        1  9.84  14.395   \n",
      "\n",
      "   humidity  windspeed  casual  registered  count  \n",
      "0        81        0.0       3          13     16  \n",
      "1        80        0.0       8          32     40  \n",
      "2        80        0.0       5          27     32  \n",
      "3        75        0.0       3          10     13  \n",
      "4        75        0.0       0           1      1  \n",
      "\u001b[2m\u001b[1m\u001b[34m\n",
      "TAIL\u001b[0m\n",
      "                  datetime  season  holiday  workingday  weather   temp  \\\n",
      "10881  2012-12-19 19:00:00       4        0           1        1  15.58   \n",
      "10882  2012-12-19 20:00:00       4        0           1        1  14.76   \n",
      "10883  2012-12-19 21:00:00       4        0           1        1  13.94   \n",
      "10884  2012-12-19 22:00:00       4        0           1        1  13.94   \n",
      "10885  2012-12-19 23:00:00       4        0           1        1  13.12   \n",
      "\n",
      "        atemp  humidity  windspeed  casual  registered  count  \n",
      "10881  19.695        50    26.0027       7         329    336  \n",
      "10882  17.425        57    15.0013      10         231    241  \n",
      "10883  15.910        61    15.0013       4         164    168  \n",
      "10884  17.425        61     6.0032      12         117    129  \n",
      "10885  16.665        66     8.9981       4          84     88  \n",
      "\u001b[2m\u001b[1m\u001b[34m\n",
      "DESCRIBE - Numerical\u001b[0m\n",
      "             season       holiday    workingday       weather         temp  \\\n",
      "count  10886.000000  10886.000000  10886.000000  10886.000000  10886.00000   \n",
      "mean       2.506614      0.028569      0.680875      1.418427     20.23086   \n",
      "std        1.116174      0.166599      0.466159      0.633839      7.79159   \n",
      "min        1.000000      0.000000      0.000000      1.000000      0.82000   \n",
      "25%        2.000000      0.000000      0.000000      1.000000     13.94000   \n",
      "50%        3.000000      0.000000      1.000000      1.000000     20.50000   \n",
      "75%        4.000000      0.000000      1.000000      2.000000     26.24000   \n",
      "max        4.000000      1.000000      1.000000      4.000000     41.00000   \n",
      "\n",
      "              atemp      humidity     windspeed        casual    registered  \\\n",
      "count  10886.000000  10886.000000  10886.000000  10886.000000  10886.000000   \n",
      "mean      23.655084     61.886460     12.799395     36.021955    155.552177   \n",
      "std        8.474601     19.245033      8.164537     49.960477    151.039033   \n",
      "min        0.760000      0.000000      0.000000      0.000000      0.000000   \n",
      "25%       16.665000     47.000000      7.001500      4.000000     36.000000   \n",
      "50%       24.240000     62.000000     12.998000     17.000000    118.000000   \n",
      "75%       31.060000     77.000000     16.997900     49.000000    222.000000   \n",
      "max       45.455000    100.000000     56.996900    367.000000    886.000000   \n",
      "\n",
      "              count  \n",
      "count  10886.000000  \n",
      "mean     191.574132  \n",
      "std      181.144454  \n",
      "min        1.000000  \n",
      "25%       42.000000  \n",
      "50%      145.000000  \n",
      "75%      284.000000  \n",
      "max      977.000000  \n",
      "\u001b[2m\u001b[1m\u001b[34m\n",
      "DESCRIBE - Categorical\u001b[0m\n",
      "                   datetime\n",
      "count                 10886\n",
      "unique                10886\n",
      "top     2011-01-01 00:00:00\n",
      "freq                      1\n",
      "\u001b[2m\u001b[1m\u001b[34m\n",
      "UNIQUE ENTRIES IN EACH NUMERICAL COLUMN\u001b[0m\n",
      "[('holiday', 2), ('workingday', 2), ('season', 4), ('weather', 4), ('windspeed', 28), ('temp', 49), ('atemp', 60), ('humidity', 89), ('casual', 309), ('registered', 731), ('count', 822)]\n",
      "\u001b[2m\u001b[1m\u001b[34m\n",
      "UNIQUE ENTRIES IN EACH CATEGORICAL COLUMN\u001b[0m\n",
      "[('datetime', 10886)]\n"
     ]
    }
   ],
   "source": [
    "ds_info(train)"
   ]
  },
  {
   "cell_type": "markdown",
   "id": "9350c440",
   "metadata": {},
   "source": [
    "#### Test Dataset Information"
   ]
  },
  {
   "cell_type": "code",
   "execution_count": 67,
   "id": "9e864517",
   "metadata": {},
   "outputs": [
    {
     "name": "stdout",
     "output_type": "stream",
     "text": [
      "\u001b[2m\u001b[1m\u001b[34mSIZE\u001b[0m\n",
      "58437\n",
      "\u001b[2m\u001b[1m\u001b[34m\n",
      "SHAPE\u001b[0m\n",
      "(6493, 9)\n",
      "\u001b[2m\u001b[1m\u001b[34m\n",
      "INFO\u001b[0m\n",
      "<class 'pandas.core.frame.DataFrame'>\n",
      "RangeIndex: 6493 entries, 0 to 6492\n",
      "Data columns (total 9 columns):\n",
      " #   Column      Non-Null Count  Dtype  \n",
      "---  ------      --------------  -----  \n",
      " 0   datetime    6493 non-null   object \n",
      " 1   season      6493 non-null   int64  \n",
      " 2   holiday     6493 non-null   int64  \n",
      " 3   workingday  6493 non-null   int64  \n",
      " 4   weather     6493 non-null   int64  \n",
      " 5   temp        6493 non-null   float64\n",
      " 6   atemp       6493 non-null   float64\n",
      " 7   humidity    6493 non-null   int64  \n",
      " 8   windspeed   6493 non-null   float64\n",
      "dtypes: float64(3), int64(5), object(1)\n",
      "memory usage: 456.7+ KB\n",
      "None\n",
      "\u001b[2m\u001b[1m\u001b[34m\n",
      "NULL VALUES\u001b[0m\n",
      "datetime      0\n",
      "season        0\n",
      "holiday       0\n",
      "workingday    0\n",
      "weather       0\n",
      "temp          0\n",
      "atemp         0\n",
      "humidity      0\n",
      "windspeed     0\n",
      "dtype: int64\n",
      "\u001b[2m\u001b[1m\u001b[34m\n",
      "HEAD\u001b[0m\n",
      "              datetime  season  holiday  workingday  weather   temp   atemp  \\\n",
      "0  2011-01-20 00:00:00       1        0           1        1  10.66  11.365   \n",
      "1  2011-01-20 01:00:00       1        0           1        1  10.66  13.635   \n",
      "2  2011-01-20 02:00:00       1        0           1        1  10.66  13.635   \n",
      "3  2011-01-20 03:00:00       1        0           1        1  10.66  12.880   \n",
      "4  2011-01-20 04:00:00       1        0           1        1  10.66  12.880   \n",
      "\n",
      "   humidity  windspeed  \n",
      "0        56    26.0027  \n",
      "1        56     0.0000  \n",
      "2        56     0.0000  \n",
      "3        56    11.0014  \n",
      "4        56    11.0014  \n",
      "\u001b[2m\u001b[1m\u001b[34m\n",
      "TAIL\u001b[0m\n",
      "                 datetime  season  holiday  workingday  weather   temp  \\\n",
      "6488  2012-12-31 19:00:00       1        0           1        2  10.66   \n",
      "6489  2012-12-31 20:00:00       1        0           1        2  10.66   \n",
      "6490  2012-12-31 21:00:00       1        0           1        1  10.66   \n",
      "6491  2012-12-31 22:00:00       1        0           1        1  10.66   \n",
      "6492  2012-12-31 23:00:00       1        0           1        1  10.66   \n",
      "\n",
      "       atemp  humidity  windspeed  \n",
      "6488  12.880        60    11.0014  \n",
      "6489  12.880        60    11.0014  \n",
      "6490  12.880        60    11.0014  \n",
      "6491  13.635        56     8.9981  \n",
      "6492  13.635        65     8.9981  \n",
      "\u001b[2m\u001b[1m\u001b[34m\n",
      "DESCRIBE - Numerical\u001b[0m\n",
      "            season      holiday   workingday      weather         temp  \\\n",
      "count  6493.000000  6493.000000  6493.000000  6493.000000  6493.000000   \n",
      "mean      2.493300     0.029108     0.685815     1.436778    20.620607   \n",
      "std       1.091258     0.168123     0.464226     0.648390     8.059583   \n",
      "min       1.000000     0.000000     0.000000     1.000000     0.820000   \n",
      "25%       2.000000     0.000000     0.000000     1.000000    13.940000   \n",
      "50%       3.000000     0.000000     1.000000     1.000000    21.320000   \n",
      "75%       3.000000     0.000000     1.000000     2.000000    27.060000   \n",
      "max       4.000000     1.000000     1.000000     4.000000    40.180000   \n",
      "\n",
      "             atemp     humidity    windspeed  \n",
      "count  6493.000000  6493.000000  6493.000000  \n",
      "mean     24.012865    64.125212    12.631157  \n",
      "std       8.782741    19.293391     8.250151  \n",
      "min       0.000000    16.000000     0.000000  \n",
      "25%      16.665000    49.000000     7.001500  \n",
      "50%      25.000000    65.000000    11.001400  \n",
      "75%      31.060000    81.000000    16.997900  \n",
      "max      50.000000   100.000000    55.998600  \n",
      "\u001b[2m\u001b[1m\u001b[34m\n",
      "DESCRIBE - Categorical\u001b[0m\n",
      "                   datetime\n",
      "count                  6493\n",
      "unique                 6493\n",
      "top     2011-01-20 00:00:00\n",
      "freq                      1\n",
      "\u001b[2m\u001b[1m\u001b[34m\n",
      "UNIQUE ENTRIES IN EACH NUMERICAL COLUMN\u001b[0m\n",
      "[('holiday', 2), ('workingday', 2), ('season', 4), ('weather', 4), ('windspeed', 27), ('temp', 49), ('atemp', 65), ('humidity', 79)]\n",
      "\u001b[2m\u001b[1m\u001b[34m\n",
      "UNIQUE ENTRIES IN EACH CATEGORICAL COLUMN\u001b[0m\n",
      "[('datetime', 6493)]\n"
     ]
    }
   ],
   "source": [
    "ds_info(test)"
   ]
  },
  {
   "cell_type": "markdown",
   "id": "a55db7c1",
   "metadata": {},
   "source": [
    "## Feature Engineering"
   ]
  },
  {
   "cell_type": "markdown",
   "id": "32195fae",
   "metadata": {},
   "source": [
    "As demonstraded previusly, the **datetime** feature is type object, so it must be converted to type datetime. \n",
    "Also, some features such as season, holiday, weather and humidity are type int, but they are actually categorical data."
   ]
  },
  {
   "cell_type": "code",
   "execution_count": 68,
   "id": "9bcd5d03",
   "metadata": {},
   "outputs": [],
   "source": [
    "train.datetime = pd.to_datetime(train.datetime)   # convert train.datetime to type datetime \n",
    "test.datetime = pd.to_datetime(test.datetime)     # convert test.datetime to type datetime "
   ]
  },
  {
   "cell_type": "code",
   "execution_count": 69,
   "id": "4f415781",
   "metadata": {},
   "outputs": [],
   "source": [
    "train[\"season\"] = train.season.map({1:\"Spring\", 2:\"Summer\", 3:\"Fall\", 4:\"Winter\" })\n",
    "#train[\"weather\"] = train.weather.map({1:\" Clear + Few clouds + Partly cloudy + Partly cloudy\",\\\n",
    "#                                        2:\" Mist + Cloudy, Mist + Broken clouds, Mist + Few clouds, Mist\", \\\n",
    "#                                        3:\" Light Snow, Light Rain + Thunderstorm + Scattered clouds, Light Rain + Scattered clouds\", \\\n",
    "#                                        4:\" Heavy Rain + Ice Pallets + Thunderstorm + Mist, Snow + Fog\"})\n",
    "train[\"weather\"] = train.weather.map({1:\"Clear\",\\\n",
    "                                        2:\"Cloudy\", \\\n",
    "                                        3:\"Light Snow/Rain\", \\\n",
    "                                        4:\"Heavy Rain/Snow\"})"
   ]
  },
  {
   "cell_type": "markdown",
   "id": "8648e995",
   "metadata": {},
   "source": [
    "#### Converting to categorical data"
   ]
  },
  {
   "cell_type": "code",
   "execution_count": 70,
   "id": "351e0f92",
   "metadata": {},
   "outputs": [],
   "source": [
    "train['year'] = train['datetime'].dt.year\n",
    "train['month'] = train['datetime'].dt.month\n",
    "train['day'] = train['datetime'].dt.day\n",
    "train['hour'] = train['datetime'].dt.hour\n",
    "train['weekday'] = train['datetime'].dt.weekday"
   ]
  },
  {
   "cell_type": "code",
   "execution_count": 71,
   "id": "73a2f2c5",
   "metadata": {},
   "outputs": [],
   "source": [
    "categoryVariableList = [\"hour\",\"weekday\",\"month\",\"season\",\"weather\",\"holiday\",\"workingday\"]\n",
    "for var in categoryVariableList:\n",
    "    train[var] = train[var].astype(\"category\")"
   ]
  },
  {
   "cell_type": "markdown",
   "id": "eb776534",
   "metadata": {},
   "source": [
    "The column **datetime** is not neccessary anymore and can be dropped"
   ]
  },
  {
   "cell_type": "code",
   "execution_count": 72,
   "id": "4ddfb894",
   "metadata": {},
   "outputs": [],
   "source": [
    "train = train.drop(['datetime'], axis=1)"
   ]
  },
  {
   "cell_type": "code",
   "execution_count": 73,
   "id": "6cfb99ef",
   "metadata": {},
   "outputs": [
    {
     "name": "stdout",
     "output_type": "stream",
     "text": [
      "<class 'pandas.core.frame.DataFrame'>\n",
      "RangeIndex: 10886 entries, 0 to 10885\n",
      "Data columns (total 16 columns):\n",
      " #   Column      Non-Null Count  Dtype   \n",
      "---  ------      --------------  -----   \n",
      " 0   season      10886 non-null  category\n",
      " 1   holiday     10886 non-null  category\n",
      " 2   workingday  10886 non-null  category\n",
      " 3   weather     10886 non-null  category\n",
      " 4   temp        10886 non-null  float64 \n",
      " 5   atemp       10886 non-null  float64 \n",
      " 6   humidity    10886 non-null  int64   \n",
      " 7   windspeed   10886 non-null  float64 \n",
      " 8   casual      10886 non-null  int64   \n",
      " 9   registered  10886 non-null  int64   \n",
      " 10  count       10886 non-null  int64   \n",
      " 11  year        10886 non-null  int64   \n",
      " 12  month       10886 non-null  category\n",
      " 13  day         10886 non-null  int64   \n",
      " 14  hour        10886 non-null  category\n",
      " 15  weekday     10886 non-null  category\n",
      "dtypes: category(7), float64(3), int64(6)\n",
      "memory usage: 842.1 KB\n"
     ]
    }
   ],
   "source": [
    "train.info()"
   ]
  },
  {
   "cell_type": "markdown",
   "id": "7a50a888",
   "metadata": {},
   "source": [
    "#### Missing values"
   ]
  },
  {
   "cell_type": "markdown",
   "id": "c14bfbfc",
   "metadata": {},
   "source": [
    "An important part of the cleaning and feature engineering process is finding the the missing values of the dataset, but based on previus evaluation using isnull we were able to see the dataset provided doesn't have null values. Let's see is after the feature engineering something changed:"
   ]
  },
  {
   "cell_type": "code",
   "execution_count": 74,
   "id": "e9053104",
   "metadata": {},
   "outputs": [
    {
     "name": "stdout",
     "output_type": "stream",
     "text": [
      "season        0\n",
      "holiday       0\n",
      "workingday    0\n",
      "weather       0\n",
      "temp          0\n",
      "atemp         0\n",
      "humidity      0\n",
      "windspeed     0\n",
      "casual        0\n",
      "registered    0\n",
      "count         0\n",
      "year          0\n",
      "month         0\n",
      "day           0\n",
      "hour          0\n",
      "weekday       0\n",
      "dtype: int64\n"
     ]
    }
   ],
   "source": [
    "print(train.isnull().sum())"
   ]
  },
  {
   "cell_type": "markdown",
   "id": "25918497",
   "metadata": {},
   "source": [
    "All column still have all values not null, so this project will consider no missing values, but some data with zero value in columns such as windspeed could be evaluated to confirm if the 0 is a missing value. "
   ]
  },
  {
   "cell_type": "markdown",
   "id": "4cedf3a6",
   "metadata": {},
   "source": [
    "### Outliers"
   ]
  },
  {
   "cell_type": "code",
   "execution_count": 75,
   "id": "3d9b2a51",
   "metadata": {},
   "outputs": [
    {
     "data": {
      "text/plain": [
       "[Text(0.5, 0, 'Weather'),\n",
       " Text(0, 0.5, 'Count'),\n",
       " Text(0.5, 1.0, 'Count by Weather')]"
      ]
     },
     "execution_count": 75,
     "metadata": {},
     "output_type": "execute_result"
    },
    {
     "data": {
      "image/png": "[encoded data removed]",
      "text/plain": [
       "<Figure size 1080x1440 with 6 Axes>"
      ]
     },
     "metadata": {
      "needs_background": "light"
     },
     "output_type": "display_data"
    }
   ],
   "source": [
    "fig, axes = plt.subplots(nrows=3,ncols=2)\n",
    "fig.set_size_inches(15, 20)\n",
    "sns.boxplot(data=train,y=\"count\",orient=\"v\",ax=axes[0][0])\n",
    "sns.boxplot(data=train,y=\"count\",x=\"hour\",orient=\"v\",ax=axes[0][1])\n",
    "sns.boxplot(data=train,y=\"count\",x=\"season\",orient=\"v\",ax=axes[1][0])\n",
    "sns.boxplot(data=train,y=\"count\",x=\"workingday\",orient=\"v\",ax=axes[1][1])\n",
    "sns.boxplot(data=train,y=\"count\",x=\"holiday\",orient=\"v\",ax=axes[2][0])\n",
    "sns.boxplot(data=train,y=\"count\",x=\"weather\",orient=\"v\",ax=axes[2][1])\n",
    "\n",
    "axes[0][0].set(ylabel='Count',title=\"Count\")\n",
    "axes[0][1].set(xlabel='Hour Of The Day', ylabel='Count',title=\"Count by Hour of the Day\")\n",
    "axes[1][0].set(xlabel='Season', ylabel='Count',title=\"Count by Season\")\n",
    "axes[1][1].set(xlabel='Working Day', ylabel='Count',title=\"Count by Working Day\")\n",
    "axes[2][0].set(xlabel='Holiday', ylabel='Count',title=\"Count by Holiday\")\n",
    "axes[2][1].set(xlabel='Weather', ylabel='Count',title=\"Count by Weather\")\n",
    "#axes[2][1].set_xticklabels([])\n"
   ]
  },
  {
   "cell_type": "markdown",
   "id": "6f3bf6f1",
   "metadata": {},
   "source": [
    "Analysis\n",
    "- The comparison between seasons show spring is the one with lower number of bike rent.\n",
    "- The boxplot with meaninful information is the Hour of the day, because it shows the busiest hours are 7AM - 8AM and 5PM - 6PM, which means the users mainly rent the bikes to ride to work/school and to return back home at the end of the day.\n",
    "- Based on boxplots 4 and 5 (Working Day and Holiday), we see most outliers are in working days. The result make sense when looking to Holiday, since all outliers are for non holidays days.\n",
    "- The last boxploy demonstrates the obvious common sense that most user rent bikes when the weather is Clear and Cloudy (1 and 2), and almost no user when is heavy raining or snowing. "
   ]
  },
  {
   "cell_type": "markdown",
   "id": "4b5deaea",
   "metadata": {},
   "source": [
    "#### Removing Outliers"
   ]
  },
  {
   "cell_type": "markdown",
   "id": "487961bc",
   "metadata": {},
   "source": [
    "It will be used the Three-sigma rule to remove the outliers, also known as the \"68-95-99.7 rule\". Tree-sigma is a statistical principle that states that for a normal distribution of data, approximately 68% of the data will fall within one standard deviation of the mean, about 95% will fall within two standard deviations, and about 99.7% will fall within three standard deviations.\n",
    "\n",
    "In practice, this means that if we have a data point that falls outside of three standard deviations from the mean, it is considered an outlier and may be removed from the dataset. This approach assumes that the data follows a normal distribution and that outliers are rare events that are unlikely to occur in the future."
   ]
  },
  {
   "cell_type": "code",
   "execution_count": 76,
   "id": "2367f921",
   "metadata": {},
   "outputs": [
    {
     "name": "stderr",
     "output_type": "stream",
     "text": [
      "C:\\Users\\peter\\Anaconda3\\lib\\site-packages\\seaborn\\_decorators.py:43: FutureWarning: Pass the following variable as a keyword arg: x. From version 0.12, the only valid positional argument will be `data`, and passing other arguments without an explicit keyword will result in an error or misinterpretation.\n",
      "  FutureWarning\n",
      "C:\\Users\\peter\\Anaconda3\\lib\\site-packages\\seaborn\\_core.py:1326: UserWarning: Vertical orientation ignored with only `x` specified.\n",
      "  warnings.warn(single_var_warning.format(\"Vertical\", \"x\"))\n"
     ]
    },
    {
     "data": {
      "image/png": "[encoded data removed]",
      "text/plain": [
       "<Figure size 432x288 with 1 Axes>"
      ]
     },
     "metadata": {
      "needs_background": "light"
     },
     "output_type": "display_data"
    },
    {
     "name": "stdout",
     "output_type": "stream",
     "text": [
      "Upper and lower boundary is: -351.8342688102485/734.982532635345\n",
      "There are 147 outliers based on three-sigma rule\n"
     ]
    }
   ],
   "source": [
    "detect_outliers(train['count'])"
   ]
  },
  {
   "cell_type": "code",
   "execution_count": 77,
   "id": "1c5a70b2",
   "metadata": {},
   "outputs": [
    {
     "name": "stdout",
     "output_type": "stream",
     "text": [
      "Number of outliers deleted: 147\n",
      "Shape of dataframe with Ouliers:  (10886, 16)\n",
      "Shape of Dataframe After Deleting the Ouliers:  (10739, 16)\n"
     ]
    }
   ],
   "source": [
    "delete_outliers(train['count'], train)"
   ]
  },
  {
   "cell_type": "markdown",
   "id": "8afcd3e7",
   "metadata": {},
   "source": [
    "### Correlation Analysis"
   ]
  },
  {
   "cell_type": "code",
   "execution_count": 78,
   "id": "4158f69e",
   "metadata": {},
   "outputs": [],
   "source": [
    "corr_variables = train[[\"temp\",\"atemp\",\"casual\",\"registered\",\"humidity\",\"windspeed\",\"count\"]].corr()"
   ]
  },
  {
   "cell_type": "code",
   "execution_count": 79,
   "id": "349d14a2",
   "metadata": {},
   "outputs": [
    {
     "data": {
      "image/png": "[encoded data removed]",
      "text/plain": [
       "<Figure size 720x720 with 2 Axes>"
      ]
     },
     "metadata": {
      "needs_background": "light"
     },
     "output_type": "display_data"
    }
   ],
   "source": [
    "correlation_heatmap(corr_variables)"
   ]
  },
  {
   "cell_type": "markdown",
   "id": "317cdc76",
   "metadata": {},
   "source": [
    "In this analisys, it was correlated count with the variables temp, atemp, casual, registered, humidity, windspeed. These are main conclusions found:\n",
    "- Without looking to any correlation between count and temp (and atemp), the common sense would conclude the count would be hight correlated to temperature, but it result show only 0.39. Is isolate the evaluation to casual agains temp and registered agains temp, we see that registered users have a lower correlation with temperature than casual user, wich makes sense, since the casual users rent the bike for leasure purposes and probably only when the weather is good.\n",
    "- Team and atemp have a strong correlation, which in this case could configure multicolinearity in the model, so one of them could be removed from the final model.\n"
   ]
  },
  {
   "cell_type": "code",
   "execution_count": null,
   "id": "ba6a8cbf",
   "metadata": {},
   "outputs": [],
   "source": []
  },
  {
   "cell_type": "code",
   "execution_count": null,
   "id": "bf8f8adc",
   "metadata": {},
   "outputs": [],
   "source": []
  },
  {
   "cell_type": "code",
   "execution_count": null,
   "id": "4f788646",
   "metadata": {},
   "outputs": [],
   "source": []
  },
  {
   "cell_type": "code",
   "execution_count": 80,
   "id": "202c7885",
   "metadata": {},
   "outputs": [
    {
     "name": "stdout",
     "output_type": "stream",
     "text": [
      "<class 'pandas.core.frame.DataFrame'>\n",
      "Int64Index: 10739 entries, 0 to 10885\n",
      "Data columns (total 16 columns):\n",
      " #   Column      Non-Null Count  Dtype   \n",
      "---  ------      --------------  -----   \n",
      " 0   season      10739 non-null  category\n",
      " 1   holiday     10739 non-null  category\n",
      " 2   workingday  10739 non-null  category\n",
      " 3   weather     10739 non-null  category\n",
      " 4   temp        10739 non-null  float64 \n",
      " 5   atemp       10739 non-null  float64 \n",
      " 6   humidity    10739 non-null  int64   \n",
      " 7   windspeed   10739 non-null  float64 \n",
      " 8   casual      10739 non-null  int64   \n",
      " 9   registered  10739 non-null  int64   \n",
      " 10  count       10739 non-null  int64   \n",
      " 11  year        10739 non-null  int64   \n",
      " 12  month       10739 non-null  category\n",
      " 13  day         10739 non-null  int64   \n",
      " 14  hour        10739 non-null  category\n",
      " 15  weekday     10739 non-null  category\n",
      "dtypes: category(7), float64(3), int64(6)\n",
      "memory usage: 914.5 KB\n",
      "None\n"
     ]
    }
   ],
   "source": [
    "print(train.info())"
   ]
  },
  {
   "cell_type": "markdown",
   "id": "a7f57e5a",
   "metadata": {},
   "source": [
    "\n"
   ]
  },
  {
   "cell_type": "markdown",
   "id": "68b67602",
   "metadata": {},
   "source": [
    "#### Working Days"
   ]
  },
  {
   "cell_type": "code",
   "execution_count": 81,
   "id": "e5503c53",
   "metadata": {},
   "outputs": [
    {
     "data": {
      "image/png": "[encoded data removed]",
      "text/plain": [
       "<Figure size 432x288 with 1 Axes>"
      ]
     },
     "metadata": {
      "needs_background": "light"
     },
     "output_type": "display_data"
    }
   ],
   "source": [
    "# Data by workingday and count the number of records in each group\n",
    "workingday_counts = train.groupby('workingday')['count'].count()\n",
    "\n",
    "# Bar chart using seaborn\n",
    "sns.barplot(x=workingday_counts.index, y=workingday_counts.values)\n",
    "sns.set_style('whitegrid')\n",
    "plt.title('Working Day Counts')\n",
    "plt.xlabel('Working Day')\n",
    "plt.ylabel('Count')\n",
    "plt.show()"
   ]
  },
  {
   "cell_type": "code",
   "execution_count": 82,
   "id": "0e5f2c53",
   "metadata": {},
   "outputs": [
    {
     "data": {
      "image/png": "[encoded data removed]",
      "text/plain": [
       "<Figure size 432x288 with 1 Axes>"
      ]
     },
     "metadata": {},
     "output_type": "display_data"
    }
   ],
   "source": [
    "rentals_by_workingday = train.groupby('workingday')[['casual', 'registered']].sum()\n",
    "\n",
    "# Create a bar chart using seaborn\n",
    "rentals_by_workingday.plot(kind='bar')\n",
    "sns.set_style('whitegrid')\n",
    "plt.title('Bike Rentals by Working Day')\n",
    "plt.xlabel('Working Day')\n",
    "plt.ylabel('Count')\n",
    "plt.show()"
   ]
  },
  {
   "cell_type": "markdown",
   "id": "60b377f4",
   "metadata": {},
   "source": [
    "#### Season"
   ]
  },
  {
   "cell_type": "code",
   "execution_count": 83,
   "id": "75e911ef",
   "metadata": {},
   "outputs": [
    {
     "data": {
      "image/png": "[encoded data removed]",
      "text/plain": [
       "<Figure size 432x288 with 1 Axes>"
      ]
     },
     "metadata": {},
     "output_type": "display_data"
    }
   ],
   "source": [
    "season_counts = train.groupby('season')['count'].count()\n",
    "\n",
    "sns.barplot(x=season_counts.index, y=season_counts.values)\n",
    "sns.set_style('whitegrid')\n",
    "plt.title('Season Counts')\n",
    "plt.xlabel('Season')\n",
    "plt.ylabel('Count')\n",
    "plt.show()"
   ]
  },
  {
   "cell_type": "markdown",
   "id": "37f4a6f2",
   "metadata": {},
   "source": [
    "The graph shows that all seasons have a similar number of count"
   ]
  },
  {
   "cell_type": "markdown",
   "id": "468cc2ee",
   "metadata": {},
   "source": [
    "### Weather"
   ]
  },
  {
   "cell_type": "code",
   "execution_count": 84,
   "id": "054e9ba9",
   "metadata": {},
   "outputs": [
    {
     "data": {
      "image/png": "[encoded data removed]",
      "text/plain": [
       "<Figure size 432x288 with 1 Axes>"
      ]
     },
     "metadata": {},
     "output_type": "display_data"
    }
   ],
   "source": [
    "# Data by workingday and count the number of records in each group\n",
    "weather_counts = train.groupby('weather')['count'].count()\n",
    "\n",
    "# Bar chart using seaborn\n",
    "sns.barplot(x=weather_counts.index, y=weather_counts.values)\n",
    "sns.set_style('whitegrid')\n",
    "plt.title('Weather')\n",
    "plt.xlabel('Weather')\n",
    "plt.ylabel('Count')\n",
    "plt.show()"
   ]
  },
  {
   "cell_type": "code",
   "execution_count": 85,
   "id": "88cf04bb",
   "metadata": {},
   "outputs": [
    {
     "data": {
      "image/png": "[encoded data removed]",
      "text/plain": [
       "<Figure size 432x288 with 1 Axes>"
      ]
     },
     "metadata": {},
     "output_type": "display_data"
    }
   ],
   "source": [
    "# Get the value counts of the \"weather\" column\n",
    "weather_counts = train['weather'].value_counts(normalize=True).sort_values(ascending=True)\n",
    "\n",
    "# Create a vertical bar plot using seaborn\n",
    "ax = sns.barplot(x=weather_counts.index, y=weather_counts.values)\n",
    "ax.set_title('Weather')\n",
    "ax.set_xlabel('Weather')\n",
    "ax.set_ylabel('Proportion')\n",
    "\n",
    "plt.show()"
   ]
  },
  {
   "cell_type": "markdown",
   "id": "bbbfc384",
   "metadata": {},
   "source": [
    "Analysis:\n",
    "- More than 65% of the rentals are during the weather 1 (Clear, Few clouds, Partly cloudy, Partly cloudy)\n",
    "- More the 25% of the rentals are in 2 (Mist + Cloudy, Mist + Broken clouds, Mist + Few clouds, Mist)\n",
    "- And only 8% rent in weather 3 (Light Snow, Light Rain + Thunderstorm + Scattered clouds, Light Rain + Scattered clouds)\n",
    "- No one rents when is Heavy Rain + Ice Pallets + Thunderstorm + Mist, Snow + Fog"
   ]
  },
  {
   "cell_type": "markdown",
   "id": "a741f92d",
   "metadata": {},
   "source": [
    "### Temperature"
   ]
  },
  {
   "cell_type": "code",
   "execution_count": null,
   "id": "d8246334",
   "metadata": {},
   "outputs": [],
   "source": []
  },
  {
   "cell_type": "code",
   "execution_count": null,
   "id": "b9d8649a",
   "metadata": {},
   "outputs": [],
   "source": []
  },
  {
   "cell_type": "code",
   "execution_count": null,
   "id": "2f456e43",
   "metadata": {},
   "outputs": [],
   "source": []
  },
  {
   "cell_type": "code",
   "execution_count": null,
   "id": "5a26c30f",
   "metadata": {},
   "outputs": [],
   "source": []
  },
  {
   "cell_type": "code",
   "execution_count": 86,
   "id": "07e503a8",
   "metadata": {},
   "outputs": [
    {
     "ename": "KeyError",
     "evalue": "'datetime'",
     "output_type": "error",
     "traceback": [
      "\u001b[1;31m---------------------------------------------------------------------------\u001b[0m",
      "\u001b[1;31mKeyError\u001b[0m                                  Traceback (most recent call last)",
      "\u001b[1;32m~\\Anaconda3\\lib\\site-packages\\pandas\\core\\indexes\\base.py\u001b[0m in \u001b[0;36mget_loc\u001b[1;34m(self, key, method, tolerance)\u001b[0m\n\u001b[0;32m   3360\u001b[0m             \u001b[1;32mtry\u001b[0m\u001b[1;33m:\u001b[0m\u001b[1;33m\u001b[0m\u001b[1;33m\u001b[0m\u001b[0m\n\u001b[1;32m-> 3361\u001b[1;33m                 \u001b[1;32mreturn\u001b[0m \u001b[0mself\u001b[0m\u001b[1;33m.\u001b[0m\u001b[0m_engine\u001b[0m\u001b[1;33m.\u001b[0m\u001b[0mget_loc\u001b[0m\u001b[1;33m(\u001b[0m\u001b[0mcasted_key\u001b[0m\u001b[1;33m)\u001b[0m\u001b[1;33m\u001b[0m\u001b[1;33m\u001b[0m\u001b[0m\n\u001b[0m\u001b[0;32m   3362\u001b[0m             \u001b[1;32mexcept\u001b[0m \u001b[0mKeyError\u001b[0m \u001b[1;32mas\u001b[0m \u001b[0merr\u001b[0m\u001b[1;33m:\u001b[0m\u001b[1;33m\u001b[0m\u001b[1;33m\u001b[0m\u001b[0m\n",
      "\u001b[1;32m~\\Anaconda3\\lib\\site-packages\\pandas\\_libs\\index.pyx\u001b[0m in \u001b[0;36mpandas._libs.index.IndexEngine.get_loc\u001b[1;34m()\u001b[0m\n",
      "\u001b[1;32m~\\Anaconda3\\lib\\site-packages\\pandas\\_libs\\index.pyx\u001b[0m in \u001b[0;36mpandas._libs.index.IndexEngine.get_loc\u001b[1;34m()\u001b[0m\n",
      "\u001b[1;32mpandas\\_libs\\hashtable_class_helper.pxi\u001b[0m in \u001b[0;36mpandas._libs.hashtable.PyObjectHashTable.get_item\u001b[1;34m()\u001b[0m\n",
      "\u001b[1;32mpandas\\_libs\\hashtable_class_helper.pxi\u001b[0m in \u001b[0;36mpandas._libs.hashtable.PyObjectHashTable.get_item\u001b[1;34m()\u001b[0m\n",
      "\u001b[1;31mKeyError\u001b[0m: 'datetime'",
      "\nThe above exception was the direct cause of the following exception:\n",
      "\u001b[1;31mKeyError\u001b[0m                                  Traceback (most recent call last)",
      "\u001b[1;32m~\\AppData\\Local\\Temp\\ipykernel_16040\\414867230.py\u001b[0m in \u001b[0;36m<module>\u001b[1;34m\u001b[0m\n\u001b[0;32m      5\u001b[0m \u001b[0mstart_date\u001b[0m \u001b[1;33m=\u001b[0m \u001b[0mstr\u001b[0m\u001b[1;33m(\u001b[0m\u001b[0myear\u001b[0m\u001b[1;33m)\u001b[0m \u001b[1;33m+\u001b[0m \u001b[1;34m'-01-01'\u001b[0m\u001b[1;33m\u001b[0m\u001b[1;33m\u001b[0m\u001b[0m\n\u001b[0;32m      6\u001b[0m \u001b[0mend_date\u001b[0m \u001b[1;33m=\u001b[0m \u001b[0mstr\u001b[0m\u001b[1;33m(\u001b[0m\u001b[0myear\u001b[0m\u001b[1;33m)\u001b[0m \u001b[1;33m+\u001b[0m \u001b[1;34m'-01-02'\u001b[0m\u001b[1;33m\u001b[0m\u001b[1;33m\u001b[0m\u001b[0m\n\u001b[1;32m----> 7\u001b[1;33m \u001b[0mmask\u001b[0m \u001b[1;33m=\u001b[0m \u001b[1;33m(\u001b[0m\u001b[0mtrain\u001b[0m\u001b[1;33m[\u001b[0m\u001b[1;34m'datetime'\u001b[0m\u001b[1;33m]\u001b[0m \u001b[1;33m>=\u001b[0m \u001b[0mstart_date\u001b[0m\u001b[1;33m)\u001b[0m \u001b[1;33m&\u001b[0m \u001b[1;33m(\u001b[0m\u001b[0mtrain\u001b[0m\u001b[1;33m[\u001b[0m\u001b[1;34m'datetime'\u001b[0m\u001b[1;33m]\u001b[0m \u001b[1;33m<=\u001b[0m \u001b[0mend_date\u001b[0m\u001b[1;33m)\u001b[0m\u001b[1;33m\u001b[0m\u001b[1;33m\u001b[0m\u001b[0m\n\u001b[0m\u001b[0;32m      8\u001b[0m \u001b[0myear_data\u001b[0m \u001b[1;33m=\u001b[0m \u001b[0mtrain\u001b[0m\u001b[1;33m.\u001b[0m\u001b[0mloc\u001b[0m\u001b[1;33m[\u001b[0m\u001b[0mmask\u001b[0m\u001b[1;33m]\u001b[0m\u001b[1;33m\u001b[0m\u001b[1;33m\u001b[0m\u001b[0m\n\u001b[0;32m      9\u001b[0m \u001b[1;33m\u001b[0m\u001b[0m\n",
      "\u001b[1;32m~\\Anaconda3\\lib\\site-packages\\pandas\\core\\frame.py\u001b[0m in \u001b[0;36m__getitem__\u001b[1;34m(self, key)\u001b[0m\n\u001b[0;32m   3456\u001b[0m             \u001b[1;32mif\u001b[0m \u001b[0mself\u001b[0m\u001b[1;33m.\u001b[0m\u001b[0mcolumns\u001b[0m\u001b[1;33m.\u001b[0m\u001b[0mnlevels\u001b[0m \u001b[1;33m>\u001b[0m \u001b[1;36m1\u001b[0m\u001b[1;33m:\u001b[0m\u001b[1;33m\u001b[0m\u001b[1;33m\u001b[0m\u001b[0m\n\u001b[0;32m   3457\u001b[0m                 \u001b[1;32mreturn\u001b[0m \u001b[0mself\u001b[0m\u001b[1;33m.\u001b[0m\u001b[0m_getitem_multilevel\u001b[0m\u001b[1;33m(\u001b[0m\u001b[0mkey\u001b[0m\u001b[1;33m)\u001b[0m\u001b[1;33m\u001b[0m\u001b[1;33m\u001b[0m\u001b[0m\n\u001b[1;32m-> 3458\u001b[1;33m             \u001b[0mindexer\u001b[0m \u001b[1;33m=\u001b[0m \u001b[0mself\u001b[0m\u001b[1;33m.\u001b[0m\u001b[0mcolumns\u001b[0m\u001b[1;33m.\u001b[0m\u001b[0mget_loc\u001b[0m\u001b[1;33m(\u001b[0m\u001b[0mkey\u001b[0m\u001b[1;33m)\u001b[0m\u001b[1;33m\u001b[0m\u001b[1;33m\u001b[0m\u001b[0m\n\u001b[0m\u001b[0;32m   3459\u001b[0m             \u001b[1;32mif\u001b[0m \u001b[0mis_integer\u001b[0m\u001b[1;33m(\u001b[0m\u001b[0mindexer\u001b[0m\u001b[1;33m)\u001b[0m\u001b[1;33m:\u001b[0m\u001b[1;33m\u001b[0m\u001b[1;33m\u001b[0m\u001b[0m\n\u001b[0;32m   3460\u001b[0m                 \u001b[0mindexer\u001b[0m \u001b[1;33m=\u001b[0m \u001b[1;33m[\u001b[0m\u001b[0mindexer\u001b[0m\u001b[1;33m]\u001b[0m\u001b[1;33m\u001b[0m\u001b[1;33m\u001b[0m\u001b[0m\n",
      "\u001b[1;32m~\\Anaconda3\\lib\\site-packages\\pandas\\core\\indexes\\base.py\u001b[0m in \u001b[0;36mget_loc\u001b[1;34m(self, key, method, tolerance)\u001b[0m\n\u001b[0;32m   3361\u001b[0m                 \u001b[1;32mreturn\u001b[0m \u001b[0mself\u001b[0m\u001b[1;33m.\u001b[0m\u001b[0m_engine\u001b[0m\u001b[1;33m.\u001b[0m\u001b[0mget_loc\u001b[0m\u001b[1;33m(\u001b[0m\u001b[0mcasted_key\u001b[0m\u001b[1;33m)\u001b[0m\u001b[1;33m\u001b[0m\u001b[1;33m\u001b[0m\u001b[0m\n\u001b[0;32m   3362\u001b[0m             \u001b[1;32mexcept\u001b[0m \u001b[0mKeyError\u001b[0m \u001b[1;32mas\u001b[0m \u001b[0merr\u001b[0m\u001b[1;33m:\u001b[0m\u001b[1;33m\u001b[0m\u001b[1;33m\u001b[0m\u001b[0m\n\u001b[1;32m-> 3363\u001b[1;33m                 \u001b[1;32mraise\u001b[0m \u001b[0mKeyError\u001b[0m\u001b[1;33m(\u001b[0m\u001b[0mkey\u001b[0m\u001b[1;33m)\u001b[0m \u001b[1;32mfrom\u001b[0m \u001b[0merr\u001b[0m\u001b[1;33m\u001b[0m\u001b[1;33m\u001b[0m\u001b[0m\n\u001b[0m\u001b[0;32m   3364\u001b[0m \u001b[1;33m\u001b[0m\u001b[0m\n\u001b[0;32m   3365\u001b[0m         \u001b[1;32mif\u001b[0m \u001b[0mis_scalar\u001b[0m\u001b[1;33m(\u001b[0m\u001b[0mkey\u001b[0m\u001b[1;33m)\u001b[0m \u001b[1;32mand\u001b[0m \u001b[0misna\u001b[0m\u001b[1;33m(\u001b[0m\u001b[0mkey\u001b[0m\u001b[1;33m)\u001b[0m \u001b[1;32mand\u001b[0m \u001b[1;32mnot\u001b[0m \u001b[0mself\u001b[0m\u001b[1;33m.\u001b[0m\u001b[0mhasnans\u001b[0m\u001b[1;33m:\u001b[0m\u001b[1;33m\u001b[0m\u001b[1;33m\u001b[0m\u001b[0m\n",
      "\u001b[1;31mKeyError\u001b[0m: 'datetime'"
     ]
    }
   ],
   "source": [
    "# Select a random year between 2011 and 2012\n",
    "year = random.randint(2011, 2012)\n",
    "\n",
    "# Extract the data for the selected year\n",
    "start_date = str(year) + '-01-01'\n",
    "end_date = str(year) + '-01-02'\n",
    "mask = (train['datetime'] >= start_date) & (train['datetime'] <= end_date)\n",
    "year_data = train.loc[mask]\n",
    "\n",
    "# Create a line plot of count data for the selected year\n",
    "fig, ax = plt.subplots(figsize=(16, 10))\n",
    "ax.plot(year_data['datetime'], year_data['count'])\n",
    "\n",
    "# Set the x-axis locator and formatter to show every 4 hours\n",
    "hours_6 = mdates.HourLocator(interval=12)\n",
    "date_fmt = mdates.DateFormatter('%H')\n",
    "ax.xaxis.set_major_locator(hours_6)\n",
    "ax.xaxis.set_major_formatter(date_fmt)\n",
    "\n",
    "ax.set_xlabel('Date')\n",
    "ax.set_ylabel('Count')\n",
    "ax.set_title('Count Data for Random Year: ' + str(year))\n",
    "plt.show()"
   ]
  },
  {
   "cell_type": "code",
   "execution_count": null,
   "id": "ede70dc6",
   "metadata": {},
   "outputs": [],
   "source": []
  },
  {
   "cell_type": "code",
   "execution_count": null,
   "id": "fc7919df",
   "metadata": {},
   "outputs": [],
   "source": []
  },
  {
   "cell_type": "code",
   "execution_count": null,
   "id": "ac80efdd",
   "metadata": {},
   "outputs": [],
   "source": []
  },
  {
   "cell_type": "code",
   "execution_count": null,
   "id": "7d553287",
   "metadata": {},
   "outputs": [],
   "source": []
  },
  {
   "cell_type": "code",
   "execution_count": null,
   "id": "16a20ddb",
   "metadata": {},
   "outputs": [],
   "source": []
  },
  {
   "cell_type": "code",
   "execution_count": null,
   "id": "ef4e278e",
   "metadata": {},
   "outputs": [],
   "source": []
  },
  {
   "cell_type": "code",
   "execution_count": null,
   "id": "382398d7",
   "metadata": {},
   "outputs": [],
   "source": []
  },
  {
   "cell_type": "code",
   "execution_count": null,
   "id": "5207c038",
   "metadata": {},
   "outputs": [],
   "source": []
  }
 ],
 "metadata": {
  "kernelspec": {
   "display_name": "Python 3 (ipykernel)",
   "language": "python",
   "name": "python3"
  },
  "language_info": {
   "codemirror_mode": {
    "name": "ipython",
    "version": 3
   },
   "file_extension": ".py",
   "mimetype": "text/x-python",
   "name": "python",
   "nbconvert_exporter": "python",
   "pygments_lexer": "ipython3",
   "version": "3.7.13"
  }
 },
 "nbformat": 4,
 "nbformat_minor": 5
}
